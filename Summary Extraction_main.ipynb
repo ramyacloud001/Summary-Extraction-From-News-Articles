{
 "cells": [
  {
   "cell_type": "code",
   "execution_count": 1,
   "id": "c56f9aa8",
   "metadata": {},
   "outputs": [],
   "source": [
    "import nltk\n",
    "from newspaper import Article\n",
    "import spacy\n",
    "import string \n",
    "from spacy.lang.en.stop_words import STOP_WORDS\n"
   ]
  },
  {
   "cell_type": "code",
   "execution_count": 2,
   "id": "09793ffd",
   "metadata": {},
   "outputs": [],
   "source": [
    "stopwords = list(STOP_WORDS)\n",
    "\n"
   ]
  },
  {
   "cell_type": "code",
   "execution_count": 3,
   "id": "911ce92e",
   "metadata": {},
   "outputs": [],
   "source": [
    "nlp1 = spacy.load('en_core_web_sm')"
   ]
  },
  {
   "cell_type": "code",
   "execution_count": 4,
   "id": "81d82e6a",
   "metadata": {},
   "outputs": [],
   "source": [
    "import string\n",
    "from string import punctuation"
   ]
  },
  {
   "cell_type": "code",
   "execution_count": 5,
   "id": "970fc8e7",
   "metadata": {},
   "outputs": [
    {
     "data": {
      "text/plain": [
       "'!\"#$%&\\'()*+,-./:;<=>?@[\\\\]^_`{|}~\\n'"
      ]
     },
     "execution_count": 5,
     "metadata": {},
     "output_type": "execute_result"
    }
   ],
   "source": [
    "punctuation = punctuation + '\\n'\n",
    "punctuation"
   ]
  },
  {
   "cell_type": "code",
   "execution_count": 6,
   "id": "cd73f8a4",
   "metadata": {},
   "outputs": [],
   "source": [
    "from heapq import nlargest"
   ]
  },
  {
   "cell_type": "code",
   "execution_count": 7,
   "id": "1b068f5c",
   "metadata": {},
   "outputs": [],
   "source": [
    "import re "
   ]
  },
  {
   "cell_type": "code",
   "execution_count": 19,
   "id": "991e111d",
   "metadata": {},
   "outputs": [],
   "source": [
    "output = []\n",
    "def fun(url):\n",
    "    reg = Article(url)\n",
    "    reg.download()\n",
    "    reg.parse()\n",
    "    reg.download(\"punkt\")\n",
    "    reg.nlp()\n",
    "    print()\n",
    "    text = reg.text\n",
    "    doc = nlp1(text)\n",
    "    word_frequencies = {}\n",
    "    for i in doc:\n",
    "        if i.text.lower() not in stopwords:\n",
    "            if i.text.lower() not in punctuation:\n",
    "                if i.text not in word_frequencies.keys():\n",
    "                    word_frequencies[i.text] = 1\n",
    "                else:\n",
    "                    word_frequencies[i.text] += 1\n",
    "    max_frequency = max(word_frequencies.values())\n",
    "    for j in word_frequencies.keys():\n",
    "        word_frequencies[j] = word_frequencies[j] / max_frequency\n",
    "    sentence_tokens = [sent for sent in doc.sents]\n",
    "    sentence_scores = {}\n",
    "    for sent in sentence_tokens:\n",
    "        for word in sent:\n",
    "            if word.text.lower() in word_frequencies.keys():\n",
    "                if sent not in sentence_scores.keys():\n",
    "                    sentence_scores[sent] = word_frequencies[word.text.lower()]\n",
    "                else:\n",
    "                    sentence_scores[sent] += word_frequencies[word.text.lower()]\n",
    "    select_length = int(len(sentence_tokens)*0.3)\n",
    "    summary = nlargest(select_length , sentence_scores , key = sentence_scores.get)\n",
    "    final_summary = [word.text for word in summary]\n",
    "    summary_main = ' '.join(final_summary)\n",
    "    print(\"-----Before Cleaning-----\")\n",
    "    print()\n",
    "    print(summary_main)\n",
    "    review = re.sub('http\\S+\\s*', ' ', summary_main)  \n",
    "    review = re.sub('RT|cc', '', review)  \n",
    "    review = re.sub('#\\S+', ' ', review)\n",
    "    review = re.sub('@\\S+', ' ', review) \n",
    "    review = re.sub('[%s]' % re.escape(\"\"\"!\"#%&'()*+,/;<=>?@[\\]^_`{|}~”“\"\"\"), '', review)  # remove punctuations\n",
    "    review = re.sub('\\s+', ' ', review)  # remove extra whitespace\n",
    "    # review = review.lower()\n",
    "    review = review.split()\n",
    "    #review = [lemma.lemmatize(word) for word in review if not word in stopwords.words(\"english\")]\n",
    "    review = ' '.join(review)\n",
    "    output.append(review)\n",
    "    print()\n",
    "\n",
    "    print(\"------------------------- data cleaned summary -----------------\")\n",
    "    print()\n",
    "    print(output)\n",
    "\n"
   ]
  },
  {
   "cell_type": "code",
   "execution_count": 20,
   "id": "4c98c2c7",
   "metadata": {},
   "outputs": [],
   "source": [
    "url = \"https://timesofindia.indiatimes.com/india/air-pollution-thermal-plants-closed-trucks-cant-enter-delhi/articleshow/87745983.cms\""
   ]
  },
  {
   "cell_type": "code",
   "execution_count": 21,
   "id": "56de5b61",
   "metadata": {},
   "outputs": [
    {
     "name": "stdout",
     "output_type": "stream",
     "text": [
      "\n",
      "-----Before Cleaning-----\n",
      "\n",
      "These include shutting down all except five thermal power plants within a 300km radius of Delhi till November 30; stopping entry of trucks in Delhi except for those carrying essential commodities; keeping diesel and petrol vehicles more than 10 and 15 years old, respectively, in NCR off the road and banning construction and demolition activities in NCR till November 21, except for some government and infrastructure projects. This followed a meeting with NCR states earlier in the day with the focus on vehicular pollution, dust pollution from construction activities and roads, and emissions from thermal power plants and industrial pollution. At least 50% of the government staff across NCR will work from home and private establishments will be encouraged to do so till November 21.Among other measures announced by the commission are banning of DG sets in entire NCR, except for emergency services, and ensuring that all industries in NCR with gas connections are run only on gas, failing which they are to be shut down. Delhi’s air quality deteriorated on Tuesday, again entering the “severe” category at 403.Of the 11 thermal power plants, the five that have been allowed to function are NTPC, Jhajjar; Mahatma Gandhi, TPS, CLP Jhajjar; Panipat TPS, HPGCL; Nabha Power Ltd TPS, Rajpura; and Talwandi Sabo TPS, Mansa.\n",
      "\n",
      "------------------------- data cleaned summary -----------------\n",
      "\n",
      "['These include shutting down all except five thermal power plants within a 300km radius of Delhi till November 30 stopping entry of trucks in Delhi except for those carrying essential commodities keeping diesel and petrol vehicles more than 10 and 15 years old respectively in NCR off the road and banning construction and demolition activities in NCR till November 21 except for some government and infrastructure projects. This followed a meeting with NCR states earlier in the day with the focus on vehicular pollution dust pollution from construction activities and roads and emissions from thermal power plants and industrial pollution. At least 50 of the government staff across NCR will work from home and private establishments will be encouraged to do so till November 21.Among other measures announced by the commission are banning of DG sets in entire NCR except for emergency services and ensuring that all industries in NCR with gas connections are run only on gas failing which they are to be shut down. Delhi’s air quality deteriorated on Tuesday again entering the severe category at 403.Of the 11 thermal power plants the five that have been allowed to function are NTPC Jhajjar Mahatma Gandhi TPS CLP Jhajjar Panipat TPS HPGCL Nabha Power Ltd TPS Rajpura and Talwandi Sabo TPS Mansa.']\n"
     ]
    }
   ],
   "source": [
    "fun(url)"
   ]
  },
  {
   "cell_type": "code",
   "execution_count": null,
   "id": "eb75bcc7",
   "metadata": {},
   "outputs": [],
   "source": []
  },
  {
   "cell_type": "code",
   "execution_count": null,
   "id": "6c731873",
   "metadata": {},
   "outputs": [],
   "source": []
  },
  {
   "cell_type": "code",
   "execution_count": null,
   "id": "dae8b956",
   "metadata": {},
   "outputs": [],
   "source": []
  }
 ],
 "metadata": {
  "kernelspec": {
   "display_name": "Python 3 (ipykernel)",
   "language": "python",
   "name": "python3"
  },
  "language_info": {
   "codemirror_mode": {
    "name": "ipython",
    "version": 3
   },
   "file_extension": ".py",
   "mimetype": "text/x-python",
   "name": "python",
   "nbconvert_exporter": "python",
   "pygments_lexer": "ipython3",
   "version": "3.9.13"
  }
 },
 "nbformat": 4,
 "nbformat_minor": 5
}
